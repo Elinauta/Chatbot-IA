{
  "nbformat": 4,
  "nbformat_minor": 0,
  "metadata": {
    "colab": {
      "name": "19110132_Chatbot.ipynb",
      "provenance": []
    },
    "kernelspec": {
      "name": "python3",
      "display_name": "Python 3"
    },
    "language_info": {
      "name": "python"
    }
  },
  "cells": [
    {
      "cell_type": "code",
      "metadata": {
        "id": "4MCz06BlqMCw",
        "colab": {
          "base_uri": "https://localhost:8080/"
        },
        "outputId": "6fa1a69e-7702-4575-adba-c40044f6a308"
      },
      "source": [
        "!pip install chatterbot"
      ],
      "execution_count": null,
      "outputs": [
        {
          "output_type": "stream",
          "text": [
            "Collecting chatterbot\n",
            "\u001b[?25l  Downloading https://files.pythonhosted.org/packages/7c/21/85c2b114bd9dfabdd46ba58fc4519acdaed45d8c70898d40079e37a45e67/ChatterBot-1.0.8-py2.py3-none-any.whl (63kB)\n",
            "\r\u001b[K     |█████▏                          | 10kB 14.7MB/s eta 0:00:01\r\u001b[K     |██████████▎                     | 20kB 9.4MB/s eta 0:00:01\r\u001b[K     |███████████████▌                | 30kB 4.8MB/s eta 0:00:01\r\u001b[K     |████████████████████▋           | 40kB 4.4MB/s eta 0:00:01\r\u001b[K     |█████████████████████████▊      | 51kB 2.4MB/s eta 0:00:01\r\u001b[K     |███████████████████████████████ | 61kB 2.6MB/s eta 0:00:01\r\u001b[K     |████████████████████████████████| 71kB 1.9MB/s \n",
            "\u001b[?25hCollecting mathparse<0.2,>=0.1\n",
            "  Downloading https://files.pythonhosted.org/packages/c3/e5/4910fb85950cb960fcf3f5aabe1c8e55f5c9201788a1c1302b570a7e1f84/mathparse-0.1.2-py3-none-any.whl\n",
            "Requirement already satisfied: python-dateutil<2.9,>=2.8 in /usr/local/lib/python3.7/dist-packages (from chatterbot) (2.8.1)\n",
            "Collecting sqlalchemy<1.4,>=1.3\n",
            "\u001b[?25l  Downloading https://files.pythonhosted.org/packages/31/44/a86070dda790ce94cd7d9fb9281cd614c7d30850ed774ace9a84d0d5d491/SQLAlchemy-1.3.24-cp37-cp37m-manylinux2010_x86_64.whl (1.3MB)\n",
            "\u001b[K     |████████████████████████████████| 1.3MB 4.4MB/s \n",
            "\u001b[?25hRequirement already satisfied: pytz in /usr/local/lib/python3.7/dist-packages (from chatterbot) (2018.9)\n",
            "Requirement already satisfied: six>=1.5 in /usr/local/lib/python3.7/dist-packages (from python-dateutil<2.9,>=2.8->chatterbot) (1.15.0)\n",
            "Installing collected packages: mathparse, sqlalchemy, chatterbot\n",
            "  Found existing installation: SQLAlchemy 1.4.15\n",
            "    Uninstalling SQLAlchemy-1.4.15:\n",
            "      Successfully uninstalled SQLAlchemy-1.4.15\n",
            "Successfully installed chatterbot-1.0.8 mathparse-0.1.2 sqlalchemy-1.3.24\n"
          ],
          "name": "stdout"
        }
      ]
    },
    {
      "cell_type": "code",
      "metadata": {
        "id": "neF-JU5gqwR2"
      },
      "source": [
        "from chatterbot import ChatBot\n",
        "from chatterbot.trainers import ListTrainer"
      ],
      "execution_count": null,
      "outputs": []
    },
    {
      "cell_type": "code",
      "metadata": {
        "colab": {
          "base_uri": "https://localhost:8080/"
        },
        "id": "aYiiKECFzVSU",
        "outputId": "d43c4ed3-f0c1-470a-f268-d3251c51b19d"
      },
      "source": [
        "cadena = ([\n",
        "           'Hola','Buenos días, ¿en qué puedo ayudarte?',\n",
        "           'Me gustaría hacer un pedido', 'Claro, ¿cuál sería tu pedido?',\n",
        "           '2 cafés americanos', 'Sería regular o descafeínado',\n",
        "           'Regular', '¿De qué tamaño los quieres?',\n",
        "           'Medianos','¿Gustas agrgar algún postre?',\n",
        "           '¿Cuáles opciones tienes?','Tenemos galletas, pastel de chocolate, cheescake y brownies',\n",
        "           'Dame 2 galletas','¿Algo más que quieras agrgar a tu pedido?',\n",
        "           'No, solamente eso, gracias','Tu pedido llegará en seguida. Que tengas un buen día',\n",
        "           'Buenos dias', 'Hola,¿en qué puedo ayudarte?',\n",
        "           'Quiero hacer un pedido', 'A la orden',\n",
        "           '5 americanos', '¿De qué tamaño los quieres?',\n",
        "           'Grandes','¿Quieres agrega azucar?',\n",
        "           'Si', '¿Gustas algun postre?',\n",
        "           'No', 'Gracias por hacer tu pedido con nosotros'\n",
        "])\n",
        "\n",
        "\n",
        "bot = ChatBot('Bot_Eli')\n",
        "entrenador = ListTrainer(bot)\n",
        "entrenador.train(cadena)\n",
        "\n",
        "\n",
        "while True:\n",
        "  try:\n",
        "    solicitud = input('Yo: ')\n",
        "    respuesta = bot.get_response(solicitud)\n",
        "    print('Bot: ', respuesta)\n",
        "\n",
        "  except(KeyboardInterrupt, EOFError, SystemError):\n",
        "    break\n"
      ],
      "execution_count": null,
      "outputs": [
        {
          "output_type": "stream",
          "text": [
            "List Trainer: [####################] 100%\n",
            "Yo: Hola\n",
            "Bot:  Buenos días, ¿en qué puedo ayudarte?\n",
            "Yo: Quiero hacer un pedido\n",
            "Bot:  A la orden\n",
            "Yo: Dos cafés americanos\n",
            "Bot:  Sería regular o descafeínado\n",
            "Yo: REgular\n",
            "Bot:  ¿De qué tamaño los quieres?\n",
            "Yo: Grande\n",
            "Bot:  ¿Quieres agrega azucar?\n",
            "Yo: No\n",
            "Bot:  Gracias por hacer tu pedido con nosotros\n"
          ],
          "name": "stdout"
        }
      ]
    }
  ]
}